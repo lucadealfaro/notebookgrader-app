{
 "cells": [
  {
   "cell_type": "code",
   "execution_count": 1,
   "id": "initial_id",
   "metadata": {
    "collapsed": true,
    "ExecuteTime": {
     "end_time": "2023-08-06T00:13:07.340997Z",
     "start_time": "2023-08-06T00:13:07.326180Z"
    }
   },
   "outputs": [],
   "source": [
    "def fibonacci(n):\n",
    "    ### BEGIN SOLUTION\n",
    "    if n < 3:\n",
    "        return 1\n",
    "    return fibonacci(n - 2) + fibonacci(n - 1)\n",
    "    ### END SOLUTION"
   ]
  },
  {
   "cell_type": "code",
   "execution_count": 3,
   "outputs": [],
   "source": [
    "# Tests 5 points\n",
    "assert fibonacci(2) == 1"
   ],
   "metadata": {
    "collapsed": false,
    "ExecuteTime": {
     "end_time": "2023-08-06T00:15:02.470929Z",
     "start_time": "2023-08-06T00:15:02.453201Z"
    }
   },
   "id": "d04372d353f29d1c"
  },
  {
   "cell_type": "code",
   "execution_count": 4,
   "outputs": [
    {
     "ename": "AssertionError",
     "evalue": "This test should fail",
     "output_type": "error",
     "traceback": [
      "\u001B[0;31m---------------------------------------------------------------------------\u001B[0m",
      "\u001B[0;31mAssertionError\u001B[0m                            Traceback (most recent call last)",
      "Cell \u001B[0;32mIn[4], line 2\u001B[0m\n\u001B[1;32m      1\u001B[0m \u001B[38;5;66;03m# Tests 5 points\u001B[39;00m\n\u001B[0;32m----> 2\u001B[0m \u001B[38;5;28;01massert\u001B[39;00m fibonacci(\u001B[38;5;241m3\u001B[39m) \u001B[38;5;241m==\u001B[39m \u001B[38;5;241m145\u001B[39m, \u001B[38;5;124m\"\u001B[39m\u001B[38;5;124mThis test should fail\u001B[39m\u001B[38;5;124m\"\u001B[39m\n",
      "\u001B[0;31mAssertionError\u001B[0m: This test should fail"
     ]
    }
   ],
   "source": [
    "# Tests 5 points\n",
    "assert fibonacci(3) == 145, \"This test should fail\""
   ],
   "metadata": {
    "collapsed": false,
    "ExecuteTime": {
     "end_time": "2023-08-06T00:15:29.040252Z",
     "start_time": "2023-08-06T00:15:28.842713Z"
    }
   },
   "id": "a0c9cb9043f326ba"
  },
  {
   "cell_type": "code",
   "execution_count": 5,
   "outputs": [],
   "source": [
    "# Tests 5 points\n",
    "# import time\n",
    "# \n",
    "# time.sleep(20)\n",
    "# assert fibonacci(1) == 1"
   ],
   "metadata": {
    "collapsed": false,
    "ExecuteTime": {
     "end_time": "2023-08-06T00:16:24.607978Z",
     "start_time": "2023-08-06T00:16:04.599749Z"
    }
   },
   "id": "e923137c43950b0c"
  },
  {
   "cell_type": "code",
   "execution_count": null,
   "outputs": [],
   "source": [],
   "metadata": {
    "collapsed": false
   },
   "id": "1faa50429c2c301"
  }
 ],
 "metadata": {
  "kernelspec": {
   "display_name": "Python 3",
   "language": "python",
   "name": "python3"
  },
  "language_info": {
   "codemirror_mode": {
    "name": "ipython",
    "version": 2
   },
   "file_extension": ".py",
   "mimetype": "text/x-python",
   "name": "python",
   "nbconvert_exporter": "python",
   "pygments_lexer": "ipython2",
   "version": "2.7.6"
  }
 },
 "nbformat": 4,
 "nbformat_minor": 5
}
