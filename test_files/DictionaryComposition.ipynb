{
 "cells": [
  {
   "cell_type": "markdown",
   "metadata": {},
   "source": [
    "# Test for Automated Feedback"
   ]
  },
  {
   "cell_type": "markdown",
   "metadata": {},
   "source": [
    "Write a function called `compose` such that if `f`, `g` are dictionaries, then `compose(f, g)` is the dictionary that corresponds to $f ; g$. "
   ]
  },
  {
   "cell_type": "code",
   "execution_count": 1,
   "metadata": {},
   "outputs": [],
   "source": [
    "def compose(f, g):\n",
    "    ### BEGIN SOLUTION\n",
    "    return {k: g[v] for k, v in f.items() if v in g}\n",
    "    ### END SOLUTION"
   ]
  },
  {
   "cell_type": "code",
   "execution_count": 2,
   "metadata": {},
   "outputs": [],
   "source": [
    "# Test 10 points\n",
    "\n",
    "f = {0: 1, 1: 2, 2: 3}\n",
    "g = {1: 'a', 2: 'b', 3: 'c'}\n",
    "assert compose(f, g) == {0: 'a', 1: 'b', 2: 'c'}"
   ]
  },
  {
   "cell_type": "code",
   "execution_count": 3,
   "metadata": {},
   "outputs": [],
   "source": [
    "# Test 10 points\n",
    "\n",
    "f = {0: 1, 1: 2, 2: 3}\n",
    "g = {0: 'a', 1: 'b', 2: 'c'}\n",
    "assert compose(f, g) == {0: 'b', 1: 'c'}\n"
   ]
  },
  {
   "cell_type": "code",
   "execution_count": null,
   "metadata": {},
   "outputs": [],
   "source": []
  }
 ],
 "metadata": {
  "kernelspec": {
   "display_name": "notebookgrader",
   "language": "python",
   "name": "python3"
  },
  "language_info": {
   "codemirror_mode": {
    "name": "ipython",
    "version": 3
   },
   "file_extension": ".py",
   "mimetype": "text/x-python",
   "name": "python",
   "nbconvert_exporter": "python",
   "pygments_lexer": "ipython3",
   "version": "3.11.6"
  },
  "orig_nbformat": 4
 },
 "nbformat": 4,
 "nbformat_minor": 2
}
